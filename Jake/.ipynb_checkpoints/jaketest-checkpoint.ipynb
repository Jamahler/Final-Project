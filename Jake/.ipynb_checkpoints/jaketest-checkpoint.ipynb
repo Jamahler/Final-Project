{
 "cells": [
  {
   "cell_type": "code",
   "execution_count": 4,
   "metadata": {},
   "outputs": [
    {
     "name": "stdout",
     "output_type": "stream",
     "text": [
      "('{\"movie_results\":[{\"title\":\"Numbers\",\"year\":\"2020\",\"imdb_id\":\"tt11771626\"},{\"title\":\"Sisters\",\"year\":\"2020\",\"imdb_id\":\"tt12289760\"},{\"title\":\"The '\n",
      " 'Oath\",\"year\":\"2020\",\"imdb_id\":\"tt10091630\"},{\"title\":\"Forward: Tomorrow '\n",
      " 'Belongs to Us\",\"year\":\"2019\",\"imdb_id\":\"tt9420080\"},{\"title\":\"Kung '\n",
      " 'Food\",\"year\":\"2018\",\"imdb_id\":\"tt8769226\"},{\"title\":\"Kids '\n",
      " 'Run\",\"year\":\"2020\",\"imdb_id\":\"tt7935770\"},{\"title\":\"Half '\n",
      " 'Brothers\",\"year\":\"2020\",\"imdb_id\":\"tt10515926\"},{\"title\":\"Brahmastra\",\"year\":\"2020\",\"imdb_id\":\"tt6277462\"},{\"title\":\"The '\n",
      " 'Prom\",\"year\":\"2020\",\"imdb_id\":\"tt10161886\"},{\"title\":\"Supercool\",\"year\":\"2020\",\"imdb_id\":\"tt10055546\"},{\"title\":\"Silent '\n",
      " 'Tokyo\",\"year\":\"2020\",\"imdb_id\":\"tt12735178\"},{\"title\":\"Needle Park '\n",
      " 'Baby\",\"year\":\"2020\",\"imdb_id\":\"tt9737798\"},{\"title\":\"Father\",\"year\":\"2020\",\"imdb_id\":\"tt9048802\"},{\"title\":\"There '\n",
      " 'Is No '\n",
      " 'Evil\",\"year\":\"2020\",\"imdb_id\":\"tt11697844\"},{\"title\":\"Iliana\",\"year\":\"2020\",\"imdb_id\":\"tt11020212\"},{\"title\":\"Wundersch\\\\u00f6n\",\"year\":\"2020\",\"imdb_id\":\"tt12194006\"},{\"title\":\"Wander\",\"year\":\"2020\",\"imdb_id\":\"tt9689696\"},{\"title\":\"\\\\u5982\\\\u679c\\\\u58f0\\\\u97f3\\\\u4e0d\\\\u8bb0\\\\u5f97\",\"year\":\"2020\",\"imdb_id\":\"tt13154372\"},{\"title\":\"Love, '\n",
      " 'Weddings and Other '\n",
      " 'Disasters\",\"year\":\"2020\",\"imdb_id\":\"tt10235718\"},{\"title\":\"Final '\n",
      " 'Voyage\",\"year\":\"2020\",\"imdb_id\":\"tt9474736\"}],\"results\":20,\"Total_results\":\"207\",\"status\":\"OK\",\"status_message\":\"Query '\n",
      " 'was successful\"}')\n"
     ]
    }
   ],
   "source": [
    "import requests\n",
    "from pprint import pprint\n",
    "\n",
    "url = \"https://movies-tvshows-data-imdb.p.rapidapi.com/\"\n",
    "\n",
    "querystring = {\"page\":\"1\",\"type\":\"get-upcoming-movies\"}\n",
    "\n",
    "headers = {\n",
    "    'x-rapidapi-key': \"327b7a6095msh1b0c32d9c362bedp19e3bfjsn4f08d31ae64c\",\n",
    "    'x-rapidapi-host': \"movies-tvshows-data-imdb.p.rapidapi.com\"\n",
    "    }\n",
    "\n",
    "response = requests.request(\"GET\", url, headers=headers, params=querystring)\n",
    "\n",
    "pprint(response.text)"
   ]
  },
  {
   "cell_type": "code",
   "execution_count": null,
   "metadata": {},
   "outputs": [],
   "source": []
  }
 ],
 "metadata": {
  "kernelspec": {
   "display_name": "Python 3",
   "language": "python",
   "name": "python3"
  },
  "language_info": {
   "codemirror_mode": {
    "name": "ipython",
    "version": 3
   },
   "file_extension": ".py",
   "mimetype": "text/x-python",
   "name": "python",
   "nbconvert_exporter": "python",
   "pygments_lexer": "ipython3",
   "version": "3.7.6"
  }
 },
 "nbformat": 4,
 "nbformat_minor": 4
}

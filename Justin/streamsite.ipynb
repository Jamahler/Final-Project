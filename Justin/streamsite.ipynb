{
 "metadata": {
  "language_info": {
   "codemirror_mode": {
    "name": "ipython",
    "version": 3
   },
   "file_extension": ".py",
   "mimetype": "text/x-python",
   "name": "python",
   "nbconvert_exporter": "python",
   "pygments_lexer": "ipython3",
   "version": "3.7.6-final"
  },
  "orig_nbformat": 2,
  "kernelspec": {
   "name": "python3",
   "display_name": "Python 3"
  }
 },
 "nbformat": 4,
 "nbformat_minor": 2,
 "cells": [
  {
   "cell_type": "code",
   "execution_count": 1,
   "metadata": {},
   "outputs": [],
   "source": [
    "import requests\n",
    "import pandas as pd\n",
    "import random\n",
    "from pprint import pprint"
   ]
  },
  {
   "cell_type": "code",
   "execution_count": 2,
   "metadata": {},
   "outputs": [],
   "source": [
    "movie_data = pd.read_csv(\"movie_id_newreleases_df.csv\")"
   ]
  },
  {
   "cell_type": "code",
   "execution_count": 3,
   "metadata": {},
   "outputs": [
    {
     "output_type": "execute_result",
     "data": {
      "text/plain": [
       "      Unnamed: 0      id\n",
       "0              0  531219\n",
       "1              1  718444\n",
       "2              2  425001\n",
       "3              3  726739\n",
       "4              4  595149\n",
       "...          ...     ...\n",
       "2595        2595  590995\n",
       "2596        2596  551804\n",
       "2597        2597  585244\n",
       "2598        2598  583132\n",
       "2599        2599  521007\n",
       "\n",
       "[2600 rows x 2 columns]"
      ],
      "text/html": "<div>\n<style scoped>\n    .dataframe tbody tr th:only-of-type {\n        vertical-align: middle;\n    }\n\n    .dataframe tbody tr th {\n        vertical-align: top;\n    }\n\n    .dataframe thead th {\n        text-align: right;\n    }\n</style>\n<table border=\"1\" class=\"dataframe\">\n  <thead>\n    <tr style=\"text-align: right;\">\n      <th></th>\n      <th>Unnamed: 0</th>\n      <th>id</th>\n    </tr>\n  </thead>\n  <tbody>\n    <tr>\n      <th>0</th>\n      <td>0</td>\n      <td>531219</td>\n    </tr>\n    <tr>\n      <th>1</th>\n      <td>1</td>\n      <td>718444</td>\n    </tr>\n    <tr>\n      <th>2</th>\n      <td>2</td>\n      <td>425001</td>\n    </tr>\n    <tr>\n      <th>3</th>\n      <td>3</td>\n      <td>726739</td>\n    </tr>\n    <tr>\n      <th>4</th>\n      <td>4</td>\n      <td>595149</td>\n    </tr>\n    <tr>\n      <th>...</th>\n      <td>...</td>\n      <td>...</td>\n    </tr>\n    <tr>\n      <th>2595</th>\n      <td>2595</td>\n      <td>590995</td>\n    </tr>\n    <tr>\n      <th>2596</th>\n      <td>2596</td>\n      <td>551804</td>\n    </tr>\n    <tr>\n      <th>2597</th>\n      <td>2597</td>\n      <td>585244</td>\n    </tr>\n    <tr>\n      <th>2598</th>\n      <td>2598</td>\n      <td>583132</td>\n    </tr>\n    <tr>\n      <th>2599</th>\n      <td>2599</td>\n      <td>521007</td>\n    </tr>\n  </tbody>\n</table>\n<p>2600 rows × 2 columns</p>\n</div>"
     },
     "metadata": {},
     "execution_count": 3
    }
   ],
   "source": [
    "movie_data.drop_duplicates()"
   ]
  },
  {
   "cell_type": "code",
   "execution_count": 16,
   "metadata": {},
   "outputs": [
    {
     "output_type": "execute_result",
     "data": {
      "text/plain": [
       "[425001, 726739]"
      ]
     },
     "metadata": {},
     "execution_count": 16
    }
   ],
   "source": [
    "ids = []\n",
    "\n",
    "\n",
    "id_data = pd.read_csv(\"movie_id_newreleases_df.csv\")\n",
    "ids = id_data.id.tolist()\n",
    "\n",
    "rand_ids = ids[42:44]\n",
    "\n",
    "# for x in ids:\n",
    "#     rand_ids = [x for x in range(0,20)]\n",
    "# rand_ids = random.shuffle(ids)\n",
    "# len(ids)\n",
    "rand_ids"
   ]
  },
  {
   "cell_type": "code",
   "execution_count": 17,
   "metadata": {},
   "outputs": [],
   "source": [
    "url = \"https://utelly-tv-shows-and-movies-availability-v1.p.rapidapi.com/idlookup\"\n",
    "\n",
    "headers = {\n",
    "    'x-rapidapi-key': \"4224dc7d08msh2590b7b75ed303dp1ce78djsnbbbe72512dbf\",\n",
    "    'x-rapidapi-host': \"utelly-tv-shows-and-movies-availability-v1.p.rapidapi.com\"\n",
    "    }\n",
    "\n",
    "sites = []\n",
    "\n",
    "for x in rand_ids:\n",
    "    querystring = {\"source_id\": x,\"source\":\"tmdb\",\"country\":\"us\"}\n",
    "    response = requests.request(\"GET\", url, headers=headers, params=querystring).json()\n",
    "\n",
    "    try:\n",
    "        response['collection']['name']\n",
    "        for x in range(0, len(response['collection']['locations'])):\n",
    "            sites.append(f\"{response['collection']['name']},{response['collection']['locations'][x]['name']}\")\n",
    "            \n",
    "    except(KeyError):\n",
    "        print(x)"
   ]
  },
  {
   "cell_type": "code",
   "execution_count": 18,
   "metadata": {},
   "outputs": [],
   "source": [
    "movie = []\n",
    "location = []\n",
    "\n",
    "for x in sites:\n",
    "    y = x.split(',')\n",
    "    movie.append(y[0])\n",
    "    location.append(y[1])"
   ]
  },
  {
   "cell_type": "code",
   "execution_count": 19,
   "metadata": {},
   "outputs": [
    {
     "output_type": "execute_result",
     "data": {
      "text/plain": [
       "                                              Movies                    Sites\n",
       "War with Grandpa                    War with Grandpa      FandangoMoviesIVAUS\n",
       "Cats & Dogs 3: Paws Unite  Cats & Dogs 3: Paws Unite          GooglePlayIVAUS\n",
       "Cats & Dogs 3: Paws Unite  Cats & Dogs 3: Paws Unite              iTunesIVAUS\n",
       "Cats & Dogs 3: Paws Unite  Cats & Dogs 3: Paws Unite  AmazonInstantVideoIVAUS"
      ],
      "text/html": "<div>\n<style scoped>\n    .dataframe tbody tr th:only-of-type {\n        vertical-align: middle;\n    }\n\n    .dataframe tbody tr th {\n        vertical-align: top;\n    }\n\n    .dataframe thead th {\n        text-align: right;\n    }\n</style>\n<table border=\"1\" class=\"dataframe\">\n  <thead>\n    <tr style=\"text-align: right;\">\n      <th></th>\n      <th>Movies</th>\n      <th>Sites</th>\n    </tr>\n  </thead>\n  <tbody>\n    <tr>\n      <th>War with Grandpa</th>\n      <td>War with Grandpa</td>\n      <td>FandangoMoviesIVAUS</td>\n    </tr>\n    <tr>\n      <th>Cats &amp; Dogs 3: Paws Unite</th>\n      <td>Cats &amp; Dogs 3: Paws Unite</td>\n      <td>GooglePlayIVAUS</td>\n    </tr>\n    <tr>\n      <th>Cats &amp; Dogs 3: Paws Unite</th>\n      <td>Cats &amp; Dogs 3: Paws Unite</td>\n      <td>iTunesIVAUS</td>\n    </tr>\n    <tr>\n      <th>Cats &amp; Dogs 3: Paws Unite</th>\n      <td>Cats &amp; Dogs 3: Paws Unite</td>\n      <td>AmazonInstantVideoIVAUS</td>\n    </tr>\n  </tbody>\n</table>\n</div>"
     },
     "metadata": {},
     "execution_count": 19
    }
   ],
   "source": [
    "okdf = pd.DataFrame({\"Movies\": movie, \"Sites\": location}, index=movie)\n",
    "okdf"
   ]
  },
  {
   "cell_type": "code",
   "execution_count": 23,
   "metadata": {},
   "outputs": [
    {
     "output_type": "execute_result",
     "data": {
      "text/plain": [
       "['War with Grandpa,FandangoMoviesIVAUS',\n",
       " 'Cats & Dogs 3: Paws Unite,GooglePlayIVAUS',\n",
       " 'Cats & Dogs 3: Paws Unite,iTunesIVAUS',\n",
       " 'Cats & Dogs 3: Paws Unite,AmazonInstantVideoIVAUS']"
      ]
     },
     "metadata": {},
     "execution_count": 23
    }
   ],
   "source": [
    "sites"
   ]
  },
  {
   "cell_type": "code",
   "execution_count": 9,
   "metadata": {},
   "outputs": [],
   "source": [
    "goog = []\n",
    "nkdf = pd.DataFrame({\"Movies\": movie}, index=movie)\n",
    "nkdf = nkdf.drop_duplicates()\n",
    "\n",
    "nkdf[\"google\"] = \"\"\n",
    "nkdf[\"itunes\"] = \"\"\n",
    "nkdf[\"amazon\"] = \"\"\n",
    "nkdf[\"netflix\"] = \"\"\n",
    "nkdf[\"fandango\"] = \"\"\n",
    "nkdf[\"hulu\"] = \"\"\n",
    "nkdf[\"atom\"] = \"\"\n",
    "nkdf[\"unknown\"] = \"\""
   ]
  },
  {
   "cell_type": "code",
   "execution_count": 10,
   "metadata": {},
   "outputs": [
    {
     "output_type": "execute_result",
     "data": {
      "text/plain": [
       "15"
      ]
     },
     "metadata": {},
     "execution_count": 10
    }
   ],
   "source": [
    "len(nkdf)"
   ]
  },
  {
   "cell_type": "code",
   "execution_count": 11,
   "metadata": {},
   "outputs": [],
   "source": [
    "for index, row in okdf.iterrows():\n",
    "    if row[\"Sites\"] == 'GooglePlayIVAUS':\n",
    "        nkdf.at[row[\"Movies\"], \"google\"] = 1\n",
    "    elif row[\"Sites\"] == 'iTunesIVAUS':\n",
    "        nkdf.at[row[\"Movies\"], \"itunes\"] = 1\n",
    "    elif row[\"Sites\"] == 'AmazonInstantVideoIVAUS':\n",
    "        nkdf.at[row[\"Movies\"], \"amazon\"] = 1\n",
    "    elif row[\"Sites\"] == 'NetflixIVAUS':\n",
    "        nkdf.at[row[\"Movies\"], \"netflix\"] = 1\n",
    "    elif row[\"Sites\"] == 'FandangoMoviesIVAUS':\n",
    "        nkdf.at[row[\"Movies\"], \"fandango\"] = 1\n",
    "    elif row[\"Sites\"] == 'HuluIVAUS':\n",
    "        nkdf.at[row[\"Movies\"], \"hulu\"] = 1\n",
    "    elif row[\"Sites\"] == 'AtomTicketsIVAUS':\n",
    "        nkdf.at[row[\"Movies\"], \"atom\"] = 1\n",
    "    else:\n",
    "        nkdf.at[row[\"Movies\"], \"unknown\"] = 1  \n",
    "\n"
   ]
  },
  {
   "cell_type": "code",
   "execution_count": 12,
   "metadata": {},
   "outputs": [
    {
     "output_type": "execute_result",
     "data": {
      "text/plain": [
       "                                              Movies google itunes amazon  \\\n",
       "Rogue                                          Rogue      1      1      1   \n",
       "War with Grandpa                    War with Grandpa                        \n",
       "Cats & Dogs 3: Paws Unite  Cats & Dogs 3: Paws Unite      1      1      1   \n",
       "Death of Me                              Death of Me      1      1      1   \n",
       "1BR                                              1BR      1      1      1   \n",
       "Sputnik                                      Sputnik      1      1      1   \n",
       "Bill & Ted Face the Music  Bill & Ted Face the Music      1      1      1   \n",
       "Lady Driver                              Lady Driver                        \n",
       "The Croods 2                            The Croods 2                        \n",
       "Monos                                          Monos      1      1      1   \n",
       "Palm Springs                            Palm Springs                        \n",
       "The Craft: Legacy                  The Craft: Legacy      1             1   \n",
       "Freaky                                        Freaky                        \n",
       "I Still Believe                      I Still Believe      1      1      1   \n",
       "The Witches                              The Witches                        \n",
       "\n",
       "                          netflix fandango hulu atom unknown  \n",
       "Rogue                                                         \n",
       "War with Grandpa                         1                    \n",
       "Cats & Dogs 3: Paws Unite                                     \n",
       "Death of Me                                                   \n",
       "1BR                             1                             \n",
       "Sputnik                                       1               \n",
       "Bill & Ted Face the Music                1                    \n",
       "Lady Driver                     1                             \n",
       "The Croods 2                             1                    \n",
       "Monos                                         1               \n",
       "Palm Springs                                  1               \n",
       "The Craft: Legacy                                             \n",
       "Freaky                                   1                    \n",
       "I Still Believe                          1    1    1          \n",
       "The Witches                                                1  "
      ],
      "text/html": "<div>\n<style scoped>\n    .dataframe tbody tr th:only-of-type {\n        vertical-align: middle;\n    }\n\n    .dataframe tbody tr th {\n        vertical-align: top;\n    }\n\n    .dataframe thead th {\n        text-align: right;\n    }\n</style>\n<table border=\"1\" class=\"dataframe\">\n  <thead>\n    <tr style=\"text-align: right;\">\n      <th></th>\n      <th>Movies</th>\n      <th>google</th>\n      <th>itunes</th>\n      <th>amazon</th>\n      <th>netflix</th>\n      <th>fandango</th>\n      <th>hulu</th>\n      <th>atom</th>\n      <th>unknown</th>\n    </tr>\n  </thead>\n  <tbody>\n    <tr>\n      <th>Rogue</th>\n      <td>Rogue</td>\n      <td>1</td>\n      <td>1</td>\n      <td>1</td>\n      <td></td>\n      <td></td>\n      <td></td>\n      <td></td>\n      <td></td>\n    </tr>\n    <tr>\n      <th>War with Grandpa</th>\n      <td>War with Grandpa</td>\n      <td></td>\n      <td></td>\n      <td></td>\n      <td></td>\n      <td>1</td>\n      <td></td>\n      <td></td>\n      <td></td>\n    </tr>\n    <tr>\n      <th>Cats &amp; Dogs 3: Paws Unite</th>\n      <td>Cats &amp; Dogs 3: Paws Unite</td>\n      <td>1</td>\n      <td>1</td>\n      <td>1</td>\n      <td></td>\n      <td></td>\n      <td></td>\n      <td></td>\n      <td></td>\n    </tr>\n    <tr>\n      <th>Death of Me</th>\n      <td>Death of Me</td>\n      <td>1</td>\n      <td>1</td>\n      <td>1</td>\n      <td></td>\n      <td></td>\n      <td></td>\n      <td></td>\n      <td></td>\n    </tr>\n    <tr>\n      <th>1BR</th>\n      <td>1BR</td>\n      <td>1</td>\n      <td>1</td>\n      <td>1</td>\n      <td>1</td>\n      <td></td>\n      <td></td>\n      <td></td>\n      <td></td>\n    </tr>\n    <tr>\n      <th>Sputnik</th>\n      <td>Sputnik</td>\n      <td>1</td>\n      <td>1</td>\n      <td>1</td>\n      <td></td>\n      <td></td>\n      <td>1</td>\n      <td></td>\n      <td></td>\n    </tr>\n    <tr>\n      <th>Bill &amp; Ted Face the Music</th>\n      <td>Bill &amp; Ted Face the Music</td>\n      <td>1</td>\n      <td>1</td>\n      <td>1</td>\n      <td></td>\n      <td>1</td>\n      <td></td>\n      <td></td>\n      <td></td>\n    </tr>\n    <tr>\n      <th>Lady Driver</th>\n      <td>Lady Driver</td>\n      <td></td>\n      <td></td>\n      <td></td>\n      <td>1</td>\n      <td></td>\n      <td></td>\n      <td></td>\n      <td></td>\n    </tr>\n    <tr>\n      <th>The Croods 2</th>\n      <td>The Croods 2</td>\n      <td></td>\n      <td></td>\n      <td></td>\n      <td></td>\n      <td>1</td>\n      <td></td>\n      <td></td>\n      <td></td>\n    </tr>\n    <tr>\n      <th>Monos</th>\n      <td>Monos</td>\n      <td>1</td>\n      <td>1</td>\n      <td>1</td>\n      <td></td>\n      <td></td>\n      <td>1</td>\n      <td></td>\n      <td></td>\n    </tr>\n    <tr>\n      <th>Palm Springs</th>\n      <td>Palm Springs</td>\n      <td></td>\n      <td></td>\n      <td></td>\n      <td></td>\n      <td></td>\n      <td>1</td>\n      <td></td>\n      <td></td>\n    </tr>\n    <tr>\n      <th>The Craft: Legacy</th>\n      <td>The Craft: Legacy</td>\n      <td>1</td>\n      <td></td>\n      <td>1</td>\n      <td></td>\n      <td></td>\n      <td></td>\n      <td></td>\n      <td></td>\n    </tr>\n    <tr>\n      <th>Freaky</th>\n      <td>Freaky</td>\n      <td></td>\n      <td></td>\n      <td></td>\n      <td></td>\n      <td>1</td>\n      <td></td>\n      <td></td>\n      <td></td>\n    </tr>\n    <tr>\n      <th>I Still Believe</th>\n      <td>I Still Believe</td>\n      <td>1</td>\n      <td>1</td>\n      <td>1</td>\n      <td></td>\n      <td>1</td>\n      <td>1</td>\n      <td>1</td>\n      <td></td>\n    </tr>\n    <tr>\n      <th>The Witches</th>\n      <td>The Witches</td>\n      <td></td>\n      <td></td>\n      <td></td>\n      <td></td>\n      <td></td>\n      <td></td>\n      <td></td>\n      <td>1</td>\n    </tr>\n  </tbody>\n</table>\n</div>"
     },
     "metadata": {},
     "execution_count": 12
    }
   ],
   "source": [
    "nkdf"
   ]
  },
  {
   "cell_type": "code",
   "execution_count": 24,
   "metadata": {},
   "outputs": [
    {
     "output_type": "execute_result",
     "data": {
      "text/plain": [
       "                                              Movies google itunes amazon  \\\n",
       "Rogue                                          Rogue      1      1      1   \n",
       "War with Grandpa                    War with Grandpa                        \n",
       "Cats & Dogs 3: Paws Unite  Cats & Dogs 3: Paws Unite      1      1      1   \n",
       "Death of Me                              Death of Me      1      1      1   \n",
       "1BR                                              1BR      1      1      1   \n",
       "Sputnik                                      Sputnik      1      1      1   \n",
       "Bill & Ted Face the Music  Bill & Ted Face the Music      1      1      1   \n",
       "Lady Driver                              Lady Driver                        \n",
       "The Croods 2                            The Croods 2                        \n",
       "Monos                                          Monos      1      1      1   \n",
       "Palm Springs                            Palm Springs                        \n",
       "The Craft: Legacy                  The Craft: Legacy      1             1   \n",
       "Freaky                                        Freaky                        \n",
       "I Still Believe                      I Still Believe      1      1      1   \n",
       "The Witches                              The Witches                        \n",
       "\n",
       "                          netflix fandango hulu atom unknown  \n",
       "Rogue                                                         \n",
       "War with Grandpa                         1                    \n",
       "Cats & Dogs 3: Paws Unite                                     \n",
       "Death of Me                                                   \n",
       "1BR                             1                             \n",
       "Sputnik                                       1               \n",
       "Bill & Ted Face the Music                1                    \n",
       "Lady Driver                     1                             \n",
       "The Croods 2                             1                    \n",
       "Monos                                         1               \n",
       "Palm Springs                                  1               \n",
       "The Craft: Legacy                                             \n",
       "Freaky                                   1                    \n",
       "I Still Believe                          1    1    1          \n",
       "The Witches                                                1  "
      ],
      "text/html": "<div>\n<style scoped>\n    .dataframe tbody tr th:only-of-type {\n        vertical-align: middle;\n    }\n\n    .dataframe tbody tr th {\n        vertical-align: top;\n    }\n\n    .dataframe thead th {\n        text-align: right;\n    }\n</style>\n<table border=\"1\" class=\"dataframe\">\n  <thead>\n    <tr style=\"text-align: right;\">\n      <th></th>\n      <th>Movies</th>\n      <th>google</th>\n      <th>itunes</th>\n      <th>amazon</th>\n      <th>netflix</th>\n      <th>fandango</th>\n      <th>hulu</th>\n      <th>atom</th>\n      <th>unknown</th>\n    </tr>\n  </thead>\n  <tbody>\n    <tr>\n      <th>Rogue</th>\n      <td>Rogue</td>\n      <td>1</td>\n      <td>1</td>\n      <td>1</td>\n      <td></td>\n      <td></td>\n      <td></td>\n      <td></td>\n      <td></td>\n    </tr>\n    <tr>\n      <th>War with Grandpa</th>\n      <td>War with Grandpa</td>\n      <td></td>\n      <td></td>\n      <td></td>\n      <td></td>\n      <td>1</td>\n      <td></td>\n      <td></td>\n      <td></td>\n    </tr>\n    <tr>\n      <th>Cats &amp; Dogs 3: Paws Unite</th>\n      <td>Cats &amp; Dogs 3: Paws Unite</td>\n      <td>1</td>\n      <td>1</td>\n      <td>1</td>\n      <td></td>\n      <td></td>\n      <td></td>\n      <td></td>\n      <td></td>\n    </tr>\n    <tr>\n      <th>Death of Me</th>\n      <td>Death of Me</td>\n      <td>1</td>\n      <td>1</td>\n      <td>1</td>\n      <td></td>\n      <td></td>\n      <td></td>\n      <td></td>\n      <td></td>\n    </tr>\n    <tr>\n      <th>1BR</th>\n      <td>1BR</td>\n      <td>1</td>\n      <td>1</td>\n      <td>1</td>\n      <td>1</td>\n      <td></td>\n      <td></td>\n      <td></td>\n      <td></td>\n    </tr>\n    <tr>\n      <th>Sputnik</th>\n      <td>Sputnik</td>\n      <td>1</td>\n      <td>1</td>\n      <td>1</td>\n      <td></td>\n      <td></td>\n      <td>1</td>\n      <td></td>\n      <td></td>\n    </tr>\n    <tr>\n      <th>Bill &amp; Ted Face the Music</th>\n      <td>Bill &amp; Ted Face the Music</td>\n      <td>1</td>\n      <td>1</td>\n      <td>1</td>\n      <td></td>\n      <td>1</td>\n      <td></td>\n      <td></td>\n      <td></td>\n    </tr>\n    <tr>\n      <th>Lady Driver</th>\n      <td>Lady Driver</td>\n      <td></td>\n      <td></td>\n      <td></td>\n      <td>1</td>\n      <td></td>\n      <td></td>\n      <td></td>\n      <td></td>\n    </tr>\n    <tr>\n      <th>The Croods 2</th>\n      <td>The Croods 2</td>\n      <td></td>\n      <td></td>\n      <td></td>\n      <td></td>\n      <td>1</td>\n      <td></td>\n      <td></td>\n      <td></td>\n    </tr>\n    <tr>\n      <th>Monos</th>\n      <td>Monos</td>\n      <td>1</td>\n      <td>1</td>\n      <td>1</td>\n      <td></td>\n      <td></td>\n      <td>1</td>\n      <td></td>\n      <td></td>\n    </tr>\n    <tr>\n      <th>Palm Springs</th>\n      <td>Palm Springs</td>\n      <td></td>\n      <td></td>\n      <td></td>\n      <td></td>\n      <td></td>\n      <td>1</td>\n      <td></td>\n      <td></td>\n    </tr>\n    <tr>\n      <th>The Craft: Legacy</th>\n      <td>The Craft: Legacy</td>\n      <td>1</td>\n      <td></td>\n      <td>1</td>\n      <td></td>\n      <td></td>\n      <td></td>\n      <td></td>\n      <td></td>\n    </tr>\n    <tr>\n      <th>Freaky</th>\n      <td>Freaky</td>\n      <td></td>\n      <td></td>\n      <td></td>\n      <td></td>\n      <td>1</td>\n      <td></td>\n      <td></td>\n      <td></td>\n    </tr>\n    <tr>\n      <th>I Still Believe</th>\n      <td>I Still Believe</td>\n      <td>1</td>\n      <td>1</td>\n      <td>1</td>\n      <td></td>\n      <td>1</td>\n      <td>1</td>\n      <td>1</td>\n      <td></td>\n    </tr>\n    <tr>\n      <th>The Witches</th>\n      <td>The Witches</td>\n      <td></td>\n      <td></td>\n      <td></td>\n      <td></td>\n      <td></td>\n      <td></td>\n      <td></td>\n      <td>1</td>\n    </tr>\n  </tbody>\n</table>\n</div>"
     },
     "metadata": {},
     "execution_count": 24
    }
   ],
   "source": [
    "nkdf['google'] = nkdf['google'].fillna(0)\n",
    "nkdf"
   ]
  },
  {
   "cell_type": "code",
   "execution_count": 14,
   "metadata": {},
   "outputs": [
    {
     "output_type": "execute_result",
     "data": {
      "text/plain": [
       "3"
      ]
     },
     "metadata": {},
     "execution_count": 14
    }
   ],
   "source": [
    "len(response['collection']['locations'])"
   ]
  },
  {
   "cell_type": "code",
   "execution_count": 15,
   "metadata": {},
   "outputs": [
    {
     "output_type": "error",
     "ename": "NameError",
     "evalue": "name 'sight' is not defined",
     "traceback": [
      "\u001b[1;31m---------------------------------------------------------------------------\u001b[0m",
      "\u001b[1;31mNameError\u001b[0m                                 Traceback (most recent call last)",
      "\u001b[1;32m<ipython-input-15-43cc23622a65>\u001b[0m in \u001b[0;36m<module>\u001b[1;34m\u001b[0m\n\u001b[1;32m----> 1\u001b[1;33m \u001b[0msight\u001b[0m\u001b[1;33m\u001b[0m\u001b[1;33m\u001b[0m\u001b[0m\n\u001b[0m",
      "\u001b[1;31mNameError\u001b[0m: name 'sight' is not defined"
     ]
    }
   ],
   "source": [
    "sight"
   ]
  },
  {
   "cell_type": "code",
   "execution_count": null,
   "metadata": {},
   "outputs": [],
   "source": []
  }
 ]
}
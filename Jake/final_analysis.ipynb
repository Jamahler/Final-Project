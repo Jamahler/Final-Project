{
 "cells": [
  {
   "cell_type": "code",
   "execution_count": 3,
   "metadata": {},
   "outputs": [],
   "source": [
    "#final analysis\n",
    "import pandas as pd\n",
    "import matplotlib.pyplot as plt\n",
    "import scipy.stats as sts\n",
    "import numpy as np\n",
    "import random"
   ]
  },
  {
   "cell_type": "code",
   "execution_count": 4,
   "metadata": {},
   "outputs": [
    {
     "data": {
      "text/plain": [
       "Index(['Unnamed: 0', 'id', 'title', 'popularity', 'vote_count', 'vote_average',\n",
       "       'original_language', 'release_date', 'avg_vote_6+', 'en = lang',\n",
       "       'release_month', 'release_day', 'release_year'],\n",
       "      dtype='object')"
      ]
     },
     "execution_count": 4,
     "metadata": {},
     "output_type": "execute_result"
    }
   ],
   "source": [
    "trainingdata = pd.read_csv(\"a_training_analysis.csv\")\n",
    "trainingdata.columns"
   ]
  },
  {
   "cell_type": "code",
   "execution_count": 5,
   "metadata": {},
   "outputs": [
    {
     "data": {
      "text/html": [
       "<div>\n",
       "<style scoped>\n",
       "    .dataframe tbody tr th:only-of-type {\n",
       "        vertical-align: middle;\n",
       "    }\n",
       "\n",
       "    .dataframe tbody tr th {\n",
       "        vertical-align: top;\n",
       "    }\n",
       "\n",
       "    .dataframe thead th {\n",
       "        text-align: right;\n",
       "    }\n",
       "</style>\n",
       "<table border=\"1\" class=\"dataframe\">\n",
       "  <thead>\n",
       "    <tr style=\"text-align: right;\">\n",
       "      <th></th>\n",
       "      <th>id</th>\n",
       "      <th>title</th>\n",
       "      <th>popularity</th>\n",
       "      <th>vote_count</th>\n",
       "      <th>vote_average</th>\n",
       "      <th>original_language</th>\n",
       "      <th>release_date</th>\n",
       "      <th>avg_vote_6+</th>\n",
       "      <th>en = lang</th>\n",
       "      <th>release_month</th>\n",
       "      <th>release_day</th>\n",
       "      <th>release_year</th>\n",
       "    </tr>\n",
       "  </thead>\n",
       "  <tbody>\n",
       "    <tr>\n",
       "      <th>0</th>\n",
       "      <td>531219</td>\n",
       "      <td>Roald Dahl's The Witches</td>\n",
       "      <td>1497.123</td>\n",
       "      <td>698</td>\n",
       "      <td>6.9</td>\n",
       "      <td>en</td>\n",
       "      <td>2020-10-26</td>\n",
       "      <td>1</td>\n",
       "      <td>1</td>\n",
       "      <td>10</td>\n",
       "      <td>26</td>\n",
       "      <td>2020</td>\n",
       "    </tr>\n",
       "    <tr>\n",
       "      <th>1</th>\n",
       "      <td>718444</td>\n",
       "      <td>Rogue</td>\n",
       "      <td>562.083</td>\n",
       "      <td>354</td>\n",
       "      <td>5.8</td>\n",
       "      <td>en</td>\n",
       "      <td>2020-08-20</td>\n",
       "      <td>0</td>\n",
       "      <td>1</td>\n",
       "      <td>8</td>\n",
       "      <td>20</td>\n",
       "      <td>2020</td>\n",
       "    </tr>\n",
       "    <tr>\n",
       "      <th>2</th>\n",
       "      <td>594718</td>\n",
       "      <td>Sputnik</td>\n",
       "      <td>475.982</td>\n",
       "      <td>50</td>\n",
       "      <td>6.4</td>\n",
       "      <td>ru</td>\n",
       "      <td>2020-09-10</td>\n",
       "      <td>1</td>\n",
       "      <td>1</td>\n",
       "      <td>9</td>\n",
       "      <td>10</td>\n",
       "      <td>2020</td>\n",
       "    </tr>\n",
       "  </tbody>\n",
       "</table>\n",
       "</div>"
      ],
      "text/plain": [
       "       id                     title  popularity  vote_count  vote_average  \\\n",
       "0  531219  Roald Dahl's The Witches    1497.123         698           6.9   \n",
       "1  718444                     Rogue     562.083         354           5.8   \n",
       "2  594718                   Sputnik     475.982          50           6.4   \n",
       "\n",
       "  original_language release_date  avg_vote_6+  en = lang  release_month  \\\n",
       "0                en   2020-10-26            1          1             10   \n",
       "1                en   2020-08-20            0          1              8   \n",
       "2                ru   2020-09-10            1          1              9   \n",
       "\n",
       "   release_day  release_year  \n",
       "0           26          2020  \n",
       "1           20          2020  \n",
       "2           10          2020  "
      ]
     },
     "execution_count": 5,
     "metadata": {},
     "output_type": "execute_result"
    }
   ],
   "source": [
    "training_data = trainingdata[['id', 'title', 'popularity', 'vote_count', 'vote_average',\n",
    "       'original_language', 'release_date', 'avg_vote_6+', 'en = lang',\n",
    "       'release_month', 'release_day', 'release_year']]\n",
    "training_data.head(3)"
   ]
  },
  {
   "cell_type": "code",
   "execution_count": 8,
   "metadata": {},
   "outputs": [
    {
     "data": {
      "text/plain": [
       "<matplotlib.collections.PathCollection at 0x7ff7bbcf1990>"
      ]
     },
     "execution_count": 8,
     "metadata": {},
     "output_type": "execute_result"
    },
    {
     "data": {
      "image/png": "[encoded data removed]",
      "text/plain": [
       "<Figure size 432x288 with 1 Axes>"
      ]
     },
     "metadata": {
      "needs_background": "light"
     },
     "output_type": "display_data"
    }
   ],
   "source": [
    "ids = training_data[['id']]\n",
    "pop = training_data[['vote_average']]\n",
    "plt.scatter(ids, pop, marker=\".\", facecolors=\"yellow\", edgecolors=\"blue\")\n",
    "#Most movies had an average vote between 5.5 and 8 and an popularity score of 200 or below"
   ]
  },
  {
   "cell_type": "code",
   "execution_count": 7,
   "metadata": {},
   "outputs": [
    {
     "data": {
      "text/plain": [
       "[<matplotlib.lines.Line2D at 0x7ff7b9fbbbd0>]"
      ]
     },
     "execution_count": 7,
     "metadata": {},
     "output_type": "execute_result"
    },
    {
     "data": {
      "image/png": "[encoded data removed]",
      "text/plain": [
       "<Figure size 432x288 with 1 Axes>"
      ]
     },
     "metadata": {
      "needs_background": "light"
     },
     "output_type": "display_data"
    }
   ],
   "source": [
    "id_x = trainingdata[['id']]\n",
    "popularity_y = trainingdata[['vote_count']]\n",
    "plt.plot(id_x,popularity_y) "
   ]
  },
  {
   "cell_type": "code",
   "execution_count": null,
   "metadata": {},
   "outputs": [],
   "source": [
    "ids = training_data[['id']]\n",
    "pop = training_data[['vote_average']]\n",
    "plt.scatter(ids, pop, marker=\".\", facecolors=\"yellow\", edgecolors=\"blue\")\n",
    "#Most movies had an average vote between 5.5 and 8 and an popularity score of 200 or below"
   ]
  }
 ],
 "metadata": {
  "kernelspec": {
   "display_name": "Python 3",
   "language": "python",
   "name": "python3"
  },
  "language_info": {
   "codemirror_mode": {
    "name": "ipython",
    "version": 3
   },
   "file_extension": ".py",
   "mimetype": "text/x-python",
   "name": "python",
   "nbconvert_exporter": "python",
   "pygments_lexer": "ipython3",
   "version": "3.7.6"
  }
 },
 "nbformat": 4,
 "nbformat_minor": 4
}

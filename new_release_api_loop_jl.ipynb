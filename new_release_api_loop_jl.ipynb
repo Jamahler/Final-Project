{
 "cells": [
  {
   "cell_type": "code",
   "execution_count": 59,
   "metadata": {},
   "outputs": [],
   "source": [
    "import pandas as pd\n",
    "import requests\n",
    "import json\n",
    "from pprint import pprint\n",
    "import numpy as np"
   ]
  },
  {
   "cell_type": "code",
   "execution_count": 53,
   "metadata": {},
   "outputs": [],
   "source": [
    "url = \"https://api.themoviedb.org/3/movie/upcoming?api_key=8bc5a5245af0e94fde2d2ac84dffb856&language=en-US&page=1\""
   ]
  },
  {
   "cell_type": "code",
   "execution_count": 64,
   "metadata": {},
   "outputs": [],
   "source": [
    " # Converting the response to JSON, and printing the result.\n",
    "response = requests.get(url) \n",
    "data = response.json()\n",
    "# pprint(data) "
   ]
  },
  {
   "cell_type": "code",
   "execution_count": 71,
   "metadata": {},
   "outputs": [],
   "source": [
    "#2021 release dataframe columns: ['id', 'title', 'popularity','vote_average','vote_count','original_language','release_date']\n",
    "#before 2021 movie columns: []\n",
    "id = []\n",
    "title = []\n",
    "popularity = []\n",
    "vote_average = []\n",
    "vote_count = []\n",
    "original_language = []\n",
    "release_date = []"
   ]
  },
  {
   "cell_type": "code",
   "execution_count": 89,
   "metadata": {},
   "outputs": [
    {
     "data": {
      "text/html": [
       "<div>\n",
       "<style scoped>\n",
       "    .dataframe tbody tr th:only-of-type {\n",
       "        vertical-align: middle;\n",
       "    }\n",
       "\n",
       "    .dataframe tbody tr th {\n",
       "        vertical-align: top;\n",
       "    }\n",
       "\n",
       "    .dataframe thead th {\n",
       "        text-align: right;\n",
       "    }\n",
       "</style>\n",
       "<table border=\"1\" class=\"dataframe\">\n",
       "  <thead>\n",
       "    <tr style=\"text-align: right;\">\n",
       "      <th></th>\n",
       "      <th>id</th>\n",
       "    </tr>\n",
       "  </thead>\n",
       "  <tbody>\n",
       "    <tr>\n",
       "      <th>0</th>\n",
       "      <td>531219</td>\n",
       "    </tr>\n",
       "    <tr>\n",
       "      <th>1</th>\n",
       "      <td>718444</td>\n",
       "    </tr>\n",
       "    <tr>\n",
       "      <th>2</th>\n",
       "      <td>425001</td>\n",
       "    </tr>\n",
       "    <tr>\n",
       "      <th>3</th>\n",
       "      <td>726739</td>\n",
       "    </tr>\n",
       "    <tr>\n",
       "      <th>4</th>\n",
       "      <td>595149</td>\n",
       "    </tr>\n",
       "    <tr>\n",
       "      <th>...</th>\n",
       "      <td>...</td>\n",
       "    </tr>\n",
       "    <tr>\n",
       "      <th>2595</th>\n",
       "      <td>590995</td>\n",
       "    </tr>\n",
       "    <tr>\n",
       "      <th>2596</th>\n",
       "      <td>551804</td>\n",
       "    </tr>\n",
       "    <tr>\n",
       "      <th>2597</th>\n",
       "      <td>585244</td>\n",
       "    </tr>\n",
       "    <tr>\n",
       "      <th>2598</th>\n",
       "      <td>583132</td>\n",
       "    </tr>\n",
       "    <tr>\n",
       "      <th>2599</th>\n",
       "      <td>521007</td>\n",
       "    </tr>\n",
       "  </tbody>\n",
       "</table>\n",
       "<p>2600 rows × 1 columns</p>\n",
       "</div>"
      ],
      "text/plain": [
       "          id\n",
       "0     531219\n",
       "1     718444\n",
       "2     425001\n",
       "3     726739\n",
       "4     595149\n",
       "...      ...\n",
       "2595  590995\n",
       "2596  551804\n",
       "2597  585244\n",
       "2598  583132\n",
       "2599  521007\n",
       "\n",
       "[2600 rows x 1 columns]"
      ]
     },
     "execution_count": 89,
     "metadata": {},
     "output_type": "execute_result"
    }
   ],
   "source": [
    "num_page = 1\n",
    "for num_page in range(1, data['total_pages']):\n",
    "    url = \"https://api.themoviedb.org/3/movie/upcoming?api_key=8bc5a5245af0e94fde2d2ac84dffb856&language=en-US&page=1\"\n",
    "    response = requests.get(url).json()\n",
    "    \n",
    "    try:\n",
    "        for x in range(0, len(response['results'])):\n",
    "            id.append(response['results'][x]['id'])\n",
    "            title.append(response['results'][x]['popularity'])\n",
    "#             title.append(response['results'][x]['vote_average'])\n",
    "#             title.append(response['results'][x]['vote_count'])\n",
    "#             title.append(response['results'][x]['original_language'])\n",
    "#             title.append(response['results'][x]['release_date'])\n",
    "    except (KeyError, IndexError):\n",
    "            print(\"Missing field/result... skipping.\")\n",
    "\n",
    "new_releases_df = pd.DataFrame({'id':id})\n",
    "new_releases_df"
   ]
  },
  {
   "cell_type": "code",
   "execution_count": 92,
   "metadata": {},
   "outputs": [],
   "source": [
    "movie_id_newreleases_df = new_releases_df.to_csv('movie_id_newreleases_df.csv')\n",
    "movie_id_newreleases_df"
   ]
  },
  {
   "cell_type": "code",
   "execution_count": null,
   "metadata": {},
   "outputs": [],
   "source": []
  }
 ],
 "metadata": {
  "kernelspec": {
   "display_name": "Python 3",
   "language": "python",
   "name": "python3"
  },
  "language_info": {
   "codemirror_mode": {
    "name": "ipython",
    "version": 3
   },
   "file_extension": ".py",
   "mimetype": "text/x-python",
   "name": "python",
   "nbconvert_exporter": "python",
   "pygments_lexer": "ipython3",
   "version": "3.8.3"
  }
 },
 "nbformat": 4,
 "nbformat_minor": 4
}

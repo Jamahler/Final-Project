{
 "cells": [
  {
   "cell_type": "code",
   "execution_count": 191,
   "metadata": {},
   "outputs": [],
   "source": [
    "#Next steps - \n",
    "#1 - find a way to get all the results from all the pages\n",
    "#2 - continue running through SVM student example with this dataset \n",
    "##  - https://gt.bootcampcontent.com/GT-Coding-Boot-Camp/gt-atl-data-pt-06-2020-u-c/blob/master/DataViz-Content/21-Machine-Learning/2/Activities/08-Stu_SVM/Solved/Stu_SVM.ipynb\n",
    "#3 - identify the test accuracy. If it's below 60% look up ways to tweak the model \n",
    "# - spend no more than 1 hour teaking the model \n",
    "#4 - time to visualize. A few questions to consider: \n",
    "#Qa - what trends exist with movies that have actually scored 7.5 avg rating\n",
    "#Qb - what % of future movies are expected to have a 7.5+ rating \n",
    "#Qc - how does the % of future movies with a 7.5+ rating compare to the past? \n",
    "#Qd - what are key features of 7.5 internatinal movies compared to 7.5 US movies? \n",
    "#Conclusion - as a movie executive, these are the features most likily to score well with viewers\n",
    "#Bonus - what's was revenue of recent releases with the top 5 highest average vote scores?"
   ]
  },
  {
   "cell_type": "code",
   "execution_count": 209,
   "metadata": {},
   "outputs": [],
   "source": [
    "import pandas as pd\n",
    "import requests\n",
    "import json\n",
    "from pprint import pprint\n",
    "import numpy as np\n",
    "from pandas.io.json import json_normalize"
   ]
  },
  {
   "cell_type": "code",
   "execution_count": 227,
   "metadata": {},
   "outputs": [
    {
     "data": {
      "text/html": [
       "<div>\n",
       "<style scoped>\n",
       "    .dataframe tbody tr th:only-of-type {\n",
       "        vertical-align: middle;\n",
       "    }\n",
       "\n",
       "    .dataframe tbody tr th {\n",
       "        vertical-align: top;\n",
       "    }\n",
       "\n",
       "    .dataframe thead th {\n",
       "        text-align: right;\n",
       "    }\n",
       "</style>\n",
       "<table border=\"1\" class=\"dataframe\">\n",
       "  <thead>\n",
       "    <tr style=\"text-align: right;\">\n",
       "      <th></th>\n",
       "      <th>id</th>\n",
       "      <th>title</th>\n",
       "      <th>popularity</th>\n",
       "      <th>vote_count</th>\n",
       "      <th>vote_average</th>\n",
       "      <th>original_language</th>\n",
       "      <th>release_date</th>\n",
       "    </tr>\n",
       "  </thead>\n",
       "  <tbody>\n",
       "    <tr>\n",
       "      <th>0</th>\n",
       "      <td>531219</td>\n",
       "      <td>Roald Dahl's The Witches</td>\n",
       "      <td>1497.123</td>\n",
       "      <td>698</td>\n",
       "      <td>6.9</td>\n",
       "      <td>en</td>\n",
       "      <td>2020-10-26</td>\n",
       "    </tr>\n",
       "    <tr>\n",
       "      <th>1</th>\n",
       "      <td>718444</td>\n",
       "      <td>Rogue</td>\n",
       "      <td>562.083</td>\n",
       "      <td>354</td>\n",
       "      <td>5.8</td>\n",
       "      <td>en</td>\n",
       "      <td>2020-08-20</td>\n",
       "    </tr>\n",
       "    <tr>\n",
       "      <th>2</th>\n",
       "      <td>594718</td>\n",
       "      <td>Sputnik</td>\n",
       "      <td>475.982</td>\n",
       "      <td>50</td>\n",
       "      <td>6.4</td>\n",
       "      <td>ru</td>\n",
       "      <td>2020-09-10</td>\n",
       "    </tr>\n",
       "    <tr>\n",
       "      <th>3</th>\n",
       "      <td>531499</td>\n",
       "      <td>The Tax Collector</td>\n",
       "      <td>444.615</td>\n",
       "      <td>179</td>\n",
       "      <td>6.0</td>\n",
       "      <td>en</td>\n",
       "      <td>2020-08-07</td>\n",
       "    </tr>\n",
       "    <tr>\n",
       "      <th>4</th>\n",
       "      <td>425001</td>\n",
       "      <td>The War with Grandpa</td>\n",
       "      <td>347.616</td>\n",
       "      <td>121</td>\n",
       "      <td>6.0</td>\n",
       "      <td>en</td>\n",
       "      <td>2020-08-27</td>\n",
       "    </tr>\n",
       "    <tr>\n",
       "      <th>...</th>\n",
       "      <td>...</td>\n",
       "      <td>...</td>\n",
       "      <td>...</td>\n",
       "      <td>...</td>\n",
       "      <td>...</td>\n",
       "      <td>...</td>\n",
       "      <td>...</td>\n",
       "    </tr>\n",
       "    <tr>\n",
       "      <th>195</th>\n",
       "      <td>741032</td>\n",
       "      <td>Danyka</td>\n",
       "      <td>6.292</td>\n",
       "      <td>0</td>\n",
       "      <td>0.0</td>\n",
       "      <td>en</td>\n",
       "      <td>2020-11-26</td>\n",
       "    </tr>\n",
       "    <tr>\n",
       "      <th>196</th>\n",
       "      <td>653756</td>\n",
       "      <td>The Mole Agent</td>\n",
       "      <td>4.199</td>\n",
       "      <td>0</td>\n",
       "      <td>0.0</td>\n",
       "      <td>es</td>\n",
       "      <td>2020-12-11</td>\n",
       "    </tr>\n",
       "    <tr>\n",
       "      <th>197</th>\n",
       "      <td>660330</td>\n",
       "      <td>Night Shift</td>\n",
       "      <td>5.035</td>\n",
       "      <td>34</td>\n",
       "      <td>6.3</td>\n",
       "      <td>fr</td>\n",
       "      <td>2020-05-21</td>\n",
       "    </tr>\n",
       "    <tr>\n",
       "      <th>198</th>\n",
       "      <td>745589</td>\n",
       "      <td>Villa caprice</td>\n",
       "      <td>4.251</td>\n",
       "      <td>0</td>\n",
       "      <td>0.0</td>\n",
       "      <td>fr</td>\n",
       "      <td>2020-11-25</td>\n",
       "    </tr>\n",
       "    <tr>\n",
       "      <th>199</th>\n",
       "      <td>573650</td>\n",
       "      <td>Bangla</td>\n",
       "      <td>6.157</td>\n",
       "      <td>74</td>\n",
       "      <td>6.1</td>\n",
       "      <td>it</td>\n",
       "      <td>2019-05-16</td>\n",
       "    </tr>\n",
       "  </tbody>\n",
       "</table>\n",
       "<p>200 rows × 7 columns</p>\n",
       "</div>"
      ],
      "text/plain": [
       "         id                     title  popularity  vote_count  vote_average  \\\n",
       "0    531219  Roald Dahl's The Witches    1497.123         698           6.9   \n",
       "1    718444                     Rogue     562.083         354           5.8   \n",
       "2    594718                   Sputnik     475.982          50           6.4   \n",
       "3    531499         The Tax Collector     444.615         179           6.0   \n",
       "4    425001      The War with Grandpa     347.616         121           6.0   \n",
       "..      ...                       ...         ...         ...           ...   \n",
       "195  741032                    Danyka       6.292           0           0.0   \n",
       "196  653756            The Mole Agent       4.199           0           0.0   \n",
       "197  660330               Night Shift       5.035          34           6.3   \n",
       "198  745589             Villa caprice       4.251           0           0.0   \n",
       "199  573650                    Bangla       6.157          74           6.1   \n",
       "\n",
       "    original_language release_date  \n",
       "0                  en   2020-10-26  \n",
       "1                  en   2020-08-20  \n",
       "2                  ru   2020-09-10  \n",
       "3                  en   2020-08-07  \n",
       "4                  en   2020-08-27  \n",
       "..                ...          ...  \n",
       "195                en   2020-11-26  \n",
       "196                es   2020-12-11  \n",
       "197                fr   2020-05-21  \n",
       "198                fr   2020-11-25  \n",
       "199                it   2019-05-16  \n",
       "\n",
       "[200 rows x 7 columns]"
      ]
     },
     "execution_count": 227,
     "metadata": {},
     "output_type": "execute_result"
    }
   ],
   "source": [
    "a = pd.read_csv(\"a.csv\")\n",
    "a.columns\n",
    "df = a[['id','title','popularity','vote_count','vote_average','original_language','release_date']]\n",
    "df"
   ]
  },
  {
   "cell_type": "code",
   "execution_count": 118,
   "metadata": {},
   "outputs": [],
   "source": [
    "#clearn your data so that all your features are categorical or numerical\n",
    "#feature a: popularity is fine as is\n",
    "#feature b: release data needs to be in categorical form by month \n",
    "#feature c: original language is fine as is "
   ]
  },
  {
   "cell_type": "code",
   "execution_count": 213,
   "metadata": {},
   "outputs": [],
   "source": [
    "#make release_data categorical. Parse by year, month, day then drop year\n",
    "# new_releases_df['release_month'] = \n",
    "# df['year'] = pd.DatetimeIndex(df['release_date']).year\n",
    "# df['r_month'] = pd.DatetimeIndex(df['release_date']).month\n",
    "# df['r_day'] = pd.DatetimeIndex(df['release_date']).day\n",
    "# df2 = df[['id','title','popularity','vote_count','vote_average','origional_language','release_date','r_year','r_month','r_day']]\n",
    "# final_data_clean2 .head(3)"
   ]
  },
  {
   "cell_type": "code",
   "execution_count": null,
   "metadata": {},
   "outputs": [],
   "source": [
    "#create a csv for movies that haven't been released"
   ]
  },
  {
   "cell_type": "code",
   "execution_count": 233,
   "metadata": {},
   "outputs": [],
   "source": [
    "movies_to_predict = df[(df['vote_count'] == 0)]\n",
    "movies_to_predict\n",
    "train_model_movies = df[(df['vote_count'] > 0)]\n",
    "train_model_movies\n",
    "# movies_to_predict.to_csv(\"a_movies_to_predict.csv\")\n",
    "train_model_movies.to_csv(\"a_train_model_movies.csv\")"
   ]
  },
  {
   "cell_type": "code",
   "execution_count": null,
   "metadata": {},
   "outputs": [],
   "source": [
    "# MODELING TIME\n",
    "#use logistical regression to determine if a new movie will get an above average mean vote (ie. a 5.0+ vote average)\n",
    "#why logisticall regression???? because we want a simple y/n prediction "
   ]
  },
  {
   "cell_type": "code",
   "execution_count": 234,
   "metadata": {},
   "outputs": [
    {
     "data": {
      "text/plain": [
       "(98, 7)"
      ]
     },
     "execution_count": 234,
     "metadata": {},
     "output_type": "execute_result"
    }
   ],
   "source": [
    "#Step 01 - import\n",
    "%matplotlib inline\n",
    "import matplotlib.pyplot as plt\n",
    "import pandas as pd\n",
    "from sklearn.datasets import make_blobs\n",
    "from sklearn.linear_model import LogisticRegression\n",
    "from sklearn.model_selection import train_test_split\n",
    "import seaborn as sns\n",
    "\n",
    "#Step 02 - Look at the shape of the dataframe\n",
    "train_model_movies.shape"
   ]
  },
  {
   "cell_type": "code",
   "execution_count": 41,
   "metadata": {},
   "outputs": [],
   "source": [
    "#input variables are: popularity, vote_count, vote_average\n",
    "#ouput variable: is this true? \"yes\" - vote_average is > 5.0 for future movies "
   ]
  },
  {
   "cell_type": "code",
   "execution_count": 235,
   "metadata": {},
   "outputs": [
    {
     "data": {
      "text/plain": [
       "array([6.9, 5.8, 6.4, 6. , 6.6, 5.5, 6.3, 7.1, 6.7, 5.7, 6.8, 7.9, 6.5,\n",
       "       7.5, 7.8, 4.4, 4.3, 6.1, 5.9, 7.2, 7. , 6.2, 4.7, 8.5, 8.1, 4.9,\n",
       "       8. , 7.6, 1. , 5.1, 8.7, 7.7, 4.5, 3.8, 5.6, 7.4, 5.4])"
      ]
     },
     "execution_count": 235,
     "metadata": {},
     "output_type": "execute_result"
    }
   ],
   "source": [
    "#Create two bins for vote_average: above and at/below average\n",
    "#first let's look at the distribution of vote_averages\n",
    "train_model_movies['vote_average'].unique()"
   ]
  },
  {
   "cell_type": "code",
   "execution_count": 240,
   "metadata": {},
   "outputs": [
    {
     "name": "stderr",
     "output_type": "stream",
     "text": [
      "<ipython-input-240-d7e6788081ac>:2: SettingWithCopyWarning: \n",
      "A value is trying to be set on a copy of a slice from a DataFrame.\n",
      "Try using .loc[row_indexer,col_indexer] = value instead\n",
      "\n",
      "See the caveats in the documentation: https://pandas.pydata.org/pandas-docs/stable/user_guide/indexing.html#returning-a-view-versus-a-copy\n",
      "  train_model_movies['avg_vote_5+'] = np.where((train_model_movies['vote_average']>=5), 1, 0)\n"
     ]
    },
    {
     "data": {
      "text/html": [
       "<div>\n",
       "<style scoped>\n",
       "    .dataframe tbody tr th:only-of-type {\n",
       "        vertical-align: middle;\n",
       "    }\n",
       "\n",
       "    .dataframe tbody tr th {\n",
       "        vertical-align: top;\n",
       "    }\n",
       "\n",
       "    .dataframe thead th {\n",
       "        text-align: right;\n",
       "    }\n",
       "</style>\n",
       "<table border=\"1\" class=\"dataframe\">\n",
       "  <thead>\n",
       "    <tr style=\"text-align: right;\">\n",
       "      <th></th>\n",
       "      <th>id</th>\n",
       "      <th>title</th>\n",
       "      <th>popularity</th>\n",
       "      <th>vote_count</th>\n",
       "      <th>vote_average</th>\n",
       "      <th>original_language</th>\n",
       "      <th>release_date</th>\n",
       "      <th>avg_vote_7.5+</th>\n",
       "      <th>avg_vote_5+</th>\n",
       "    </tr>\n",
       "  </thead>\n",
       "  <tbody>\n",
       "    <tr>\n",
       "      <th>193</th>\n",
       "      <td>613319</td>\n",
       "      <td>Selfie</td>\n",
       "      <td>4.927</td>\n",
       "      <td>48</td>\n",
       "      <td>5.6</td>\n",
       "      <td>fr</td>\n",
       "      <td>2020-01-15</td>\n",
       "      <td>0</td>\n",
       "      <td>1</td>\n",
       "    </tr>\n",
       "    <tr>\n",
       "      <th>197</th>\n",
       "      <td>660330</td>\n",
       "      <td>Night Shift</td>\n",
       "      <td>5.035</td>\n",
       "      <td>34</td>\n",
       "      <td>6.3</td>\n",
       "      <td>fr</td>\n",
       "      <td>2020-05-21</td>\n",
       "      <td>0</td>\n",
       "      <td>1</td>\n",
       "    </tr>\n",
       "    <tr>\n",
       "      <th>199</th>\n",
       "      <td>573650</td>\n",
       "      <td>Bangla</td>\n",
       "      <td>6.157</td>\n",
       "      <td>74</td>\n",
       "      <td>6.1</td>\n",
       "      <td>it</td>\n",
       "      <td>2019-05-16</td>\n",
       "      <td>0</td>\n",
       "      <td>1</td>\n",
       "    </tr>\n",
       "  </tbody>\n",
       "</table>\n",
       "</div>"
      ],
      "text/plain": [
       "         id        title  popularity  vote_count  vote_average  \\\n",
       "193  613319       Selfie       4.927          48           5.6   \n",
       "197  660330  Night Shift       5.035          34           6.3   \n",
       "199  573650       Bangla       6.157          74           6.1   \n",
       "\n",
       "    original_language release_date  avg_vote_7.5+  avg_vote_5+  \n",
       "193                fr   2020-01-15              0            1  \n",
       "197                fr   2020-05-21              0            1  \n",
       "199                it   2019-05-16              0            1  "
      ]
     },
     "execution_count": 240,
     "metadata": {},
     "output_type": "execute_result"
    }
   ],
   "source": [
    "#next let's group into either \"above_avg\" (5.0+) or \"not\" (>=5.0)\n",
    "train_model_movies['avg_vote_5+'] = np.where((train_model_movies['vote_average']>=5), 1, 0)\n",
    "train_model_movies.tail(3)"
   ]
  },
  {
   "cell_type": "code",
   "execution_count": 243,
   "metadata": {},
   "outputs": [
    {
     "data": {
      "text/plain": [
       "1    90\n",
       "0     8\n",
       "Name: avg_vote_5+, dtype: int64"
      ]
     },
     "execution_count": 243,
     "metadata": {},
     "output_type": "execute_result"
    }
   ],
   "source": [
    "train_model_movies['avg_vote_5+'].value_counts()"
   ]
  },
  {
   "cell_type": "code",
   "execution_count": 244,
   "metadata": {},
   "outputs": [],
   "source": [
    "#Step 03 - Define the features of the target\n",
    "X = train_model_movies[['popularity','vote_count','vote_average']]\n",
    "y = train_model_movies[['avg_vote_5+']]\n"
   ]
  },
  {
   "cell_type": "code",
   "execution_count": 245,
   "metadata": {},
   "outputs": [
    {
     "name": "stderr",
     "output_type": "stream",
     "text": [
      "/Users/jennieleegruber/opt/anaconda3/lib/python3.8/site-packages/sklearn/utils/validation.py:73: DataConversionWarning: A column-vector y was passed when a 1d array was expected. Please change the shape of y to (n_samples, ), for example using ravel().\n",
      "  return f(**kwargs)\n"
     ]
    },
    {
     "data": {
      "text/plain": [
       "SVC(kernel='linear')"
      ]
     },
     "execution_count": 245,
     "metadata": {},
     "output_type": "execute_result"
    }
   ],
   "source": [
    "#Split the dataset in to test and train using sklearn before building the SVM \n",
    "from sklearn.model_selection import train_test_split\n",
    "X_train, X_test, y_train, y_test = train_test_split(X, y, test_size = 0.20)\n",
    "from sklearn.svm import SVC\n",
    "svclassifier = SVC(kernel='linear')\n",
    "svclassifier.fit(X_train, y_train)"
   ]
  },
  {
   "cell_type": "code",
   "execution_count": 246,
   "metadata": {},
   "outputs": [],
   "source": [
    "y_predict = svclassifier.predict(X_test)"
   ]
  },
  {
   "cell_type": "code",
   "execution_count": 247,
   "metadata": {},
   "outputs": [
    {
     "name": "stdout",
     "output_type": "stream",
     "text": [
      "[[ 3  0]\n",
      " [ 0 17]]\n",
      "              precision    recall  f1-score   support\n",
      "\n",
      "           0       1.00      1.00      1.00         3\n",
      "           1       1.00      1.00      1.00        17\n",
      "\n",
      "    accuracy                           1.00        20\n",
      "   macro avg       1.00      1.00      1.00        20\n",
      "weighted avg       1.00      1.00      1.00        20\n",
      "\n"
     ]
    }
   ],
   "source": [
    "from sklearn.metrics import classification_report, confusion_matrix\n",
    "print(confusion_matrix(y_test, y_predict))\n",
    "print(classification_report(y_test, y_predict))"
   ]
  },
  {
   "cell_type": "code",
   "execution_count": 248,
   "metadata": {},
   "outputs": [
    {
     "name": "stderr",
     "output_type": "stream",
     "text": [
      "/Users/jennieleegruber/opt/anaconda3/lib/python3.8/site-packages/sklearn/utils/validation.py:73: DataConversionWarning: A column-vector y was passed when a 1d array was expected. Please change the shape of y to (n_samples, ), for example using ravel().\n",
      "  return f(**kwargs)\n"
     ]
    },
    {
     "data": {
      "text/plain": [
       "SVC()"
      ]
     },
     "execution_count": 248,
     "metadata": {},
     "output_type": "execute_result"
    }
   ],
   "source": [
    "from sklearn.svm import SVC\n",
    "svclassifier2 = SVC(kernel='rbf')\n",
    "svclassifier2.fit(X_train, y_train)"
   ]
  },
  {
   "cell_type": "code",
   "execution_count": 249,
   "metadata": {},
   "outputs": [
    {
     "name": "stdout",
     "output_type": "stream",
     "text": [
      "[[ 0  3]\n",
      " [ 0 17]]\n",
      "              precision    recall  f1-score   support\n",
      "\n",
      "           0       0.00      0.00      0.00         3\n",
      "           1       0.85      1.00      0.92        17\n",
      "\n",
      "    accuracy                           0.85        20\n",
      "   macro avg       0.42      0.50      0.46        20\n",
      "weighted avg       0.72      0.85      0.78        20\n",
      "\n"
     ]
    },
    {
     "name": "stderr",
     "output_type": "stream",
     "text": [
      "/Users/jennieleegruber/opt/anaconda3/lib/python3.8/site-packages/sklearn/metrics/_classification.py:1221: UndefinedMetricWarning: Precision and F-score are ill-defined and being set to 0.0 in labels with no predicted samples. Use `zero_division` parameter to control this behavior.\n",
      "  _warn_prf(average, modifier, msg_start, len(result))\n"
     ]
    }
   ],
   "source": [
    "y_pred2 = svclassifier2.predict(X_test)\n",
    "from sklearn.metrics import classification_report, confusion_matrix\n",
    "print(confusion_matrix(y_test, y_pred2))\n",
    "print(classification_report(y_test, y_pred2))"
   ]
  },
  {
   "cell_type": "code",
   "execution_count": 103,
   "metadata": {},
   "outputs": [],
   "source": [
    "#Source: https://intellipaat.com/blog/tutorial/machine-learning-tutorial/svm-algorithm-in-python/"
   ]
  },
  {
   "cell_type": "code",
   "execution_count": 260,
   "metadata": {},
   "outputs": [],
   "source": [
    "# ### trying this another way !!!!!\n",
    "# #define the factor you're looking to predict\n",
    "# target = train_model_movies['avg_vote_5+']\n",
    "# #define the unique options of the predicted outcome\n",
    "# target_names = ['1','0']\n",
    "# #define the dataset without the factor you're trying to predict\n",
    "# data = train_model_movies.drop(\"avg_vote_5+\", axis=1)\n",
    "# data2 = data.drop(\"avg_vote_7.5+\", axis=1)"
   ]
  },
  {
   "cell_type": "code",
   "execution_count": 262,
   "metadata": {},
   "outputs": [],
   "source": [
    "# data2.head(3)"
   ]
  },
  {
   "cell_type": "code",
   "execution_count": 144,
   "metadata": {},
   "outputs": [],
   "source": [
    "#SVM Modeling - New Attempt"
   ]
  },
  {
   "cell_type": "code",
   "execution_count": 151,
   "metadata": {},
   "outputs": [
    {
     "data": {
      "text/plain": [
       "array([0, 1])"
      ]
     },
     "execution_count": 151,
     "metadata": {},
     "output_type": "execute_result"
    }
   ],
   "source": []
  },
  {
   "cell_type": "code",
   "execution_count": null,
   "metadata": {},
   "outputs": [],
   "source": [
    "\n"
   ]
  }
 ],
 "metadata": {
  "kernelspec": {
   "display_name": "Python 3",
   "language": "python",
   "name": "python3"
  },
  "language_info": {
   "codemirror_mode": {
    "name": "ipython",
    "version": 3
   },
   "file_extension": ".py",
   "mimetype": "text/x-python",
   "name": "python",
   "nbconvert_exporter": "python",
   "pygments_lexer": "ipython3",
   "version": "3.8.3"
  }
 },
 "nbformat": 4,
 "nbformat_minor": 4
}
